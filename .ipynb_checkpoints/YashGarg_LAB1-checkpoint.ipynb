{
 "cells": [
  {
   "cell_type": "markdown",
   "id": "f445f0cb-b828-4aba-b9a7-bbde7629dd2b",
   "metadata": {},
   "source": [
    "q.1: Python is widely used for web development, data analysis, machine learning, artificial intelligence, scientific computing, automation, and software development due to its simplicity and versatility.\n",
    "\n",
    "q.2: Python is popular for its simplicity, readability, vast libraries, community support, and versatility across domains like web development, data science, AI, and automation.\n",
    "\n",
    "q.3: The interface for writing Python code is selected based on the user’s needs, ranging from basic text editors to advanced IDEs like PyCharm or online platforms like Google Colab."
   ]
  },
  {
   "cell_type": "code",
   "execution_count": 1,
   "id": "6e09a9b4-70ad-4cfb-830e-6549b50e8f87",
   "metadata": {},
   "outputs": [
    {
     "name": "stdout",
     "output_type": "stream",
     "text": [
      "Yash Garg\n"
     ]
    }
   ],
   "source": [
    "#q.4# \n",
    "print(\"Yash Garg\")"
   ]
  },
  {
   "cell_type": "code",
   "execution_count": 55,
   "id": "de1a82b1-0692-4662-a223-91b5ba93660f",
   "metadata": {},
   "outputs": [
    {
     "name": "stdout",
     "output_type": "stream",
     "text": [
      "16\n"
     ]
    }
   ],
   "source": [
    "#q.5#\n",
    "a=10\n",
    "b=6\n",
    "sum=a+b\n",
    "print(sum)"
   ]
  },
  {
   "cell_type": "code",
   "execution_count": 57,
   "id": "312fe809-a43f-4e9a-866f-64c91a5e7a9b",
   "metadata": {},
   "outputs": [
    {
     "name": "stdout",
     "output_type": "stream",
     "text": [
      "['Hyderabad', 'Kolkata', 'Chennai']\n"
     ]
    }
   ],
   "source": [
    "#q.6#\n",
    "city=['Hyderabad','Kolkata','Chennai']\n",
    "print(city)"
   ]
  }
 ],
 "metadata": {
  "kernelspec": {
   "display_name": "Python 3 (ipykernel)",
   "language": "python",
   "name": "python3"
  },
  "language_info": {
   "codemirror_mode": {
    "name": "ipython",
    "version": 3
   },
   "file_extension": ".py",
   "mimetype": "text/x-python",
   "name": "python",
   "nbconvert_exporter": "python",
   "pygments_lexer": "ipython3",
   "version": "3.11.7"
  }
 },
 "nbformat": 4,
 "nbformat_minor": 5
}
