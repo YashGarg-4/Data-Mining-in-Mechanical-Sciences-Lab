{
 "cells": [
  {
   "cell_type": "code",
   "execution_count": 1,
   "id": "65692052-acfc-4440-9c3e-c759e52b1862",
   "metadata": {},
   "outputs": [],
   "source": [
    "import pandas as pd"
   ]
  },
  {
   "cell_type": "code",
   "execution_count": 3,
   "id": "804ce6b3-abca-41fb-8e88-ee87494fd2db",
   "metadata": {},
   "outputs": [],
   "source": [
    "a = pd.Series([2,3,4,5])\n",
    "b = pd.Series([1,1,1,1])"
   ]
  },
  {
   "cell_type": "code",
   "execution_count": 9,
   "id": "ebc785c7-2ca0-4c16-b577-02f48a0b9144",
   "metadata": {},
   "outputs": [
    {
     "name": "stdout",
     "output_type": "stream",
     "text": [
      "   0  1\n",
      "0  2  1\n",
      "1  3  1\n",
      "2  4  1\n",
      "3  5  1\n"
     ]
    }
   ],
   "source": [
    "out = pd.concat([a,b], axis = 1, ignore_index=True, keys = ['Data1', 'Data2'])\n",
    "print(out)"
   ]
  },
  {
   "cell_type": "code",
   "execution_count": 10,
   "id": "cd74ae71-ce6b-40fe-b97b-59c37c6cd6cd",
   "metadata": {},
   "outputs": [
    {
     "name": "stdout",
     "output_type": "stream",
     "text": [
      "   Data1  Data2\n",
      "0      2      1\n",
      "1      3      1\n",
      "2      4      1\n",
      "3      5      1\n"
     ]
    }
   ],
   "source": [
    "out = pd.concat([a,b], axis = 1, ignore_index=False, keys = ['Data1', 'Data2'])\n",
    "print(out)"
   ]
  },
  {
   "cell_type": "code",
   "execution_count": 11,
   "id": "cffb120b-2e05-4a12-85f2-812dc13017b0",
   "metadata": {},
   "outputs": [
    {
     "name": "stdout",
     "output_type": "stream",
     "text": [
      "Data1  0    2\n",
      "       1    3\n",
      "       2    4\n",
      "       3    5\n",
      "Data2  0    1\n",
      "       1    1\n",
      "       2    1\n",
      "       3    1\n",
      "dtype: int64\n"
     ]
    }
   ],
   "source": [
    "out = pd.concat([a,b], axis = 0, ignore_index = False, keys = ['Data1', 'Data2'])\n",
    "print(out)"
   ]
  },
  {
   "cell_type": "code",
   "execution_count": 12,
   "id": "022b11ac-8769-4722-9a68-36c52f16969c",
   "metadata": {},
   "outputs": [
    {
     "name": "stdout",
     "output_type": "stream",
     "text": [
      "0    2\n",
      "1    3\n",
      "2    4\n",
      "3    5\n",
      "4    1\n",
      "5    1\n",
      "6    1\n",
      "7    1\n",
      "dtype: int64\n"
     ]
    }
   ],
   "source": [
    "out = pd.concat([a,b], axis = 0, ignore_index=True, keys = ['Data1', 'Data2'])\n",
    "print(out)"
   ]
  },
  {
   "cell_type": "code",
   "execution_count": 13,
   "id": "1ac60aa1-9d3a-4732-aa77-530958892ffa",
   "metadata": {},
   "outputs": [],
   "source": [
    "A = pd.Series([2, 3, 4])\n",
    "B = pd.Series([7, 9, 6])\n",
    "C = pd.Series([4, 5, 6])\n",
    "D = pd.Series([5, 8, 2])"
   ]
  },
  {
   "cell_type": "code",
   "execution_count": 14,
   "id": "ac35cde8-71f2-4a35-bf25-a5f2449a9a1e",
   "metadata": {},
   "outputs": [
    {
     "name": "stdout",
     "output_type": "stream",
     "text": [
      "   0  1\n",
      "0  2  7\n",
      "1  3  9\n",
      "2  4  6\n"
     ]
    }
   ],
   "source": [
    "out1 = pd.concat([A, B], axis=1, ignore_index=True, keys=['A', 'B'])\n",
    "print(out1)"
   ]
  },
  {
   "cell_type": "code",
   "execution_count": 18,
   "id": "422253c2-ffa0-4b69-9a1d-1a129bc17051",
   "metadata": {},
   "outputs": [
    {
     "name": "stdout",
     "output_type": "stream",
     "text": [
      "   0  1\n",
      "0  4  5\n",
      "1  5  8\n",
      "2  6  2\n"
     ]
    }
   ],
   "source": [
    "out2 = pd.concat([C, D], axis=1, ignore_index=True, keys=['C', 'D'])\n",
    "print(out2)"
   ]
  },
  {
   "cell_type": "code",
   "execution_count": 19,
   "id": "879bbfd8-61e7-4df0-92c5-d8365cda05b2",
   "metadata": {},
   "outputs": [
    {
     "name": "stdout",
     "output_type": "stream",
     "text": [
      "    0   1\n",
      "0   8  35\n",
      "1  15  72\n",
      "2  24  12\n"
     ]
    }
   ],
   "source": [
    "test1 = out1 * out2\n",
    "print(test1)"
   ]
  },
  {
   "cell_type": "code",
   "execution_count": 20,
   "id": "93ae8c98-4693-4093-82ee-4119fd05cd0d",
   "metadata": {},
   "outputs": [
    {
     "name": "stdout",
     "output_type": "stream",
     "text": [
      "    0   1\n",
      "0   6  12\n",
      "1   8  17\n",
      "2  10   8\n"
     ]
    }
   ],
   "source": [
    "test2 = out1 + out2\n",
    "print(test2)"
   ]
  },
  {
   "cell_type": "code",
   "execution_count": 21,
   "id": "5837e9da-92e9-4a16-87a9-1b09e5f00509",
   "metadata": {},
   "outputs": [],
   "source": [
    "#Working with DataFrames"
   ]
  },
  {
   "cell_type": "code",
   "execution_count": 25,
   "id": "4f2ab8b9-0c39-4244-ba62-75c828dd6bf7",
   "metadata": {},
   "outputs": [
    {
     "name": "stdout",
     "output_type": "stream",
     "text": [
      "   0\n",
      "0  1\n",
      "1  2\n",
      "2  3\n",
      "3  4\n",
      "<class 'pandas.core.frame.DataFrame'>\n"
     ]
    }
   ],
   "source": [
    "#Pandas is already imported\n",
    "A = pd.Series([1, 2, 3, 4])\n",
    "df = pd.DataFrame(A)\n",
    "print(df)\n",
    "print(type(df))"
   ]
  },
  {
   "cell_type": "code",
   "execution_count": 28,
   "id": "fbfd07d1-80ff-404d-8db7-afa85f0a28fa",
   "metadata": {},
   "outputs": [
    {
     "name": "stdout",
     "output_type": "stream",
     "text": [
      "   A  B  C  D\n",
      "0  1  2  3  4\n",
      "1  2  3  4  5\n",
      "2  3  4  5  6\n",
      "3  4  5  6  7\n"
     ]
    }
   ],
   "source": [
    "df = pd.DataFrame({\"A\": [1, 2, 3, 4], \"B\": [2, 3, 4, 5], \"C\":[3, 4, 5, 6], \"D\":[4, 5, 6, 7]})\n",
    "print(df)"
   ]
  },
  {
   "cell_type": "code",
   "execution_count": 51,
   "id": "9fc44a35-7e30-4a22-8792-f19506cd7456",
   "metadata": {},
   "outputs": [
    {
     "name": "stdout",
     "output_type": "stream",
     "text": [
      "Sachin 100\n",
      "Kohli 80\n",
      "Dravid 50\n"
     ]
    }
   ],
   "source": [
    "#Q1. Printing a dictiionary\n",
    "\n",
    "Player = [\"Sachin\", \"Kohli\", \"Dravid\"]\n",
    "Runs = [100, 80, 50]\n",
    "\n",
    "dic = dict(zip(Player, Runs))\n",
    "\n",
    "for i in dic:\n",
    "    print(i, dic[i])"
   ]
  },
  {
   "cell_type": "code",
   "execution_count": 37,
   "id": "991f7ca4-e0c8-4926-9fe1-6514d03a3b1b",
   "metadata": {},
   "outputs": [
    {
     "name": "stdout",
     "output_type": "stream",
     "text": [
      "My Math grade is: D\n"
     ]
    }
   ],
   "source": [
    "#Q2. Storing a table useing the dic command\n",
    "\n",
    "dic = {\"Economics\": \"B\", \"Heat Transfer\": \"A\", \"Workshop\": \"C\", \"Math\": \"D\"}\n",
    "print(f\"My Math grade is: {dic['Math']}\")"
   ]
  },
  {
   "cell_type": "code",
   "execution_count": 38,
   "id": "f2c72897-7d85-4fd5-b35a-ffa45aaebd99",
   "metadata": {},
   "outputs": [
    {
     "name": "stdout",
     "output_type": "stream",
     "text": [
      "    Name    ID\n",
      "0   Hari  1241\n",
      "1    Ram  1341\n",
      "2  Modan  1142\n",
      "3  Soham  1246\n"
     ]
    }
   ],
   "source": [
    "#Q3. Creating a table using concat\n",
    "\n",
    "A = pd.Series([\"Hari\", \"Ram\", \"Modan\", \"Soham\"])\n",
    "B = pd.Series([\"1241\", \"1341\", \"1142\", \"1246\"])\n",
    "\n",
    "out = pd.concat([A, B], axis = 1, ignore_index = False, keys = [\"Name\", \"ID\"])\n",
    "print(out)"
   ]
  },
  {
   "cell_type": "code",
   "execution_count": 90,
   "id": "9054a87d-54a9-44be-bb8c-9d68138d5f31",
   "metadata": {},
   "outputs": [
    {
     "name": "stdout",
     "output_type": "stream",
     "text": [
      "The cost of petrol in Raipur is: Rs.125\n"
     ]
    }
   ],
   "source": [
    "#Q4.\n",
    "A = [120, 130, 135, 140, 125, 128, 132]\n",
    "B = ['Delhi', 'Bombay', 'Hyderabad', 'Chennai', 'Raipur', 'Bhilai', 'Lucknow']\n",
    "\n",
    "dic = dict(zip(B,A))\n",
    "\n",
    "print(f\"The cost of petrol in Raipur is: Rs.{dic['Raipur']}\")\n"
   ]
  },
  {
   "cell_type": "code",
   "execution_count": 94,
   "id": "3d75cf12-24f6-4fb3-95b3-8c439b255a01",
   "metadata": {},
   "outputs": [
    {
     "name": "stdin",
     "output_type": "stream",
     "text": [
      "Please enter the item whose total cost you want:  Rice\n"
     ]
    },
    {
     "name": "stdout",
     "output_type": "stream",
     "text": [
      "The total cose of Rice is Rs.1400\n"
     ]
    }
   ],
   "source": [
    "#Q5.\n",
    "item = [\"Gas\", \"Rice\", \"Millet\", \"Wheat\"]\n",
    "price = pd.Series([900, 1200, 1500, 600])\n",
    "trans = pd.Series([150, 200, 50, 250])\n",
    "\n",
    "total_cost = price + trans\n",
    "\n",
    "dic = dict(zip(item, total_cost))\n",
    "\n",
    "inp = input(\"Please enter the item whose total cost you want: \")\n",
    "\n",
    "print(f\"The total cost of {inp} is Rs.{dic[inp]}\")\n"
   ]
  }
 ],
 "metadata": {
  "kernelspec": {
   "display_name": "Python 3 (ipykernel)",
   "language": "python",
   "name": "python3"
  },
  "language_info": {
   "codemirror_mode": {
    "name": "ipython",
    "version": 3
   },
   "file_extension": ".py",
   "mimetype": "text/x-python",
   "name": "python",
   "nbconvert_exporter": "python",
   "pygments_lexer": "ipython3",
   "version": "3.11.7"
  }
 },
 "nbformat": 4,
 "nbformat_minor": 5
}
