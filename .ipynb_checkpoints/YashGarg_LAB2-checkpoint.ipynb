{
 "cells": [
  {
   "cell_type": "markdown",
   "id": "cb13d99e-0d70-4c28-adb7-47b5dfde1d7a",
   "metadata": {},
   "source": [
    "Q.1 : String-type files in Python refer to files or file-like objects that are treated as text (strings), where their content is read or written as plain text rather than binary data. They are written within colons.\n",
    "\n",
    "Q.2 : String-type files are handled by reading their content into a string variable, modifying it as needed, and then saving it back to the file if required.\n",
    "\n",
    "Q.3 : Different formatting options for strings include inserting variables, aligning text, adding padding, and formatting numbers (e.g., decimals, percentages, or currency)."
   ]
  },
  {
   "cell_type": "code",
   "execution_count": 1,
   "id": "2b59bbc7-0360-40c9-9309-16065aa65fb3",
   "metadata": {},
   "outputs": [
    {
     "name": "stdin",
     "output_type": "stream",
     "text": [
      "Enter the total purchase amt in rupees:  10\n",
      "Enter the total amount paid by the customer in rupees:  25\n"
     ]
    },
    {
     "name": "stdout",
     "output_type": "stream",
     "text": [
      "Change to be returned:  15\n"
     ]
    }
   ],
   "source": [
    "#Q.4#\n",
    "purchased_amount=int(input('Enter the total purchase amt in rupees: '))\n",
    "amount_paid_by_customer=int(input('Enter the total amount paid by the customer in rupees: '))\n",
    "print('Change to be returned: ',amount_paid_by_customer-purchased_amount)"
   ]
  },
  {
   "cell_type": "code",
   "execution_count": 4,
   "id": "1bf13c9b-aba1-4539-891d-68d85af8f04c",
   "metadata": {},
   "outputs": [
    {
     "name": "stdout",
     "output_type": "stream",
     "text": [
      "baby's name is : Sutra\n"
     ]
    }
   ],
   "source": [
    "#Q.5#\n",
    "fathers_name=\"Suyaash\"\n",
    "mothers_name=\"Savitra\"\n",
    "child_name=fathers_name[:2]+mothers_name[-3:]\n",
    "print(f\"baby's name is : {child_name}\")"
   ]
  },
  {
   "cell_type": "code",
   "execution_count": 6,
   "id": "fd074b4a-b589-40f0-81ea-f572696d4d76",
   "metadata": {},
   "outputs": [
    {
     "name": "stdout",
     "output_type": "stream",
     "text": [
      "Mileage of Mahindra is 25\n"
     ]
    }
   ],
   "source": [
    "#Q.6#\n",
    "car=['Mahindra','Tata','MG','Hyundai']\n",
    "mileage=[20,25,30]\n",
    "print(f\"Mileage of {car[0]} is {mileage[1]}\")"
   ]
  },
  {
   "cell_type": "code",
   "execution_count": 42,
   "id": "9b8deb47-15e8-41b9-aacb-72d9521c0319",
   "metadata": {},
   "outputs": [
    {
     "name": "stdout",
     "output_type": "stream",
     "text": [
      "The complex number (8-9j) has real part 8.0 and imaginary part -9.0\n"
     ]
    }
   ],
   "source": [
    "#Q.7#\n",
    "x=8-9j\n",
    "print(f'The complex number {x} has real part {x.real} and imaginary part {x.imag}')"
   ]
  },
  {
   "cell_type": "code",
   "execution_count": 36,
   "id": "569e3526-b878-4361-a654-cd9b5709e7a7",
   "metadata": {},
   "outputs": [
    {
     "name": "stdout",
     "output_type": "stream",
     "text": [
      "X:6 Y:7\n"
     ]
    }
   ],
   "source": [
    "#Q.8#\n",
    "coord=(6,7)\n",
    "print(f'X:{coord[0]} Y:{coord[1]}')"
   ]
  },
  {
   "cell_type": "code",
   "execution_count": 7,
   "id": "52d84f6e-6155-4f24-95f2-bc8d6b06a598",
   "metadata": {},
   "outputs": [
    {
     "name": "stdout",
     "output_type": "stream",
     "text": [
      "Hello \n"
     ]
    }
   ],
   "source": [
    "#Q.9#\n",
    "a='Hello World'\n",
    "print(a[0:6])"
   ]
  },
  {
   "cell_type": "code",
   "execution_count": 12,
   "id": "f0523ea8-7655-49b2-a869-43242c99ef09",
   "metadata": {},
   "outputs": [
    {
     "name": "stdout",
     "output_type": "stream",
     "text": [
      "The designer said, What is the value of young's modulus?\n"
     ]
    }
   ],
   "source": [
    "#Q.10#\n",
    "Test= \"The designer said, \"\"What is the value of young's modulus?\"\"\"\n",
    "print(Test)"
   ]
  }
 ],
 "metadata": {
  "kernelspec": {
   "display_name": "Python 3 (ipykernel)",
   "language": "python",
   "name": "python3"
  },
  "language_info": {
   "codemirror_mode": {
    "name": "ipython",
    "version": 3
   },
   "file_extension": ".py",
   "mimetype": "text/x-python",
   "name": "python",
   "nbconvert_exporter": "python",
   "pygments_lexer": "ipython3",
   "version": "3.11.7"
  }
 },
 "nbformat": 4,
 "nbformat_minor": 5
}
