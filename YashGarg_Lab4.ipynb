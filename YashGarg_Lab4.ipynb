{
 "cells": [
  {
   "cell_type": "code",
   "execution_count": 1,
   "id": "49853808-ec4e-4e15-bc35-a796e2c58bdd",
   "metadata": {},
   "outputs": [],
   "source": [
    "import pandas as pd\n",
    "import numpy as np"
   ]
  },
  {
   "cell_type": "code",
   "execution_count": 2,
   "id": "445c71e4-5c31-44dd-ae88-c558cef67709",
   "metadata": {},
   "outputs": [],
   "source": [
    "A = pd.Series([50, 60, 80, 100, 20, 200, 25, 120])\n",
    "B = pd.Series(['soap', 'battery', 'food', 'maggy', 'cream', 'oil', 'medicine', 'chips'])\n",
    "C = pd.Series([5, 10, 2, 6, 8, 12, 15, 20])\n",
    "D = pd.Series(['store1', 'store2', 'store3', 'store1', 'store3', 'store2', 'store1', 'store2'])\n",
    "\n",
    "data = pd.DataFrame({'price': A, 'items': B, 'customers': C, 'store': D})\n"
   ]
  },
  {
   "cell_type": "code",
   "execution_count": 3,
   "id": "960664d4-b10f-46f6-910a-543799974cf0",
   "metadata": {},
   "outputs": [
    {
     "data": {
      "text/html": [
       "<div>\n",
       "<style scoped>\n",
       "    .dataframe tbody tr th:only-of-type {\n",
       "        vertical-align: middle;\n",
       "    }\n",
       "\n",
       "    .dataframe tbody tr th {\n",
       "        vertical-align: top;\n",
       "    }\n",
       "\n",
       "    .dataframe thead th {\n",
       "        text-align: right;\n",
       "    }\n",
       "</style>\n",
       "<table border=\"1\" class=\"dataframe\">\n",
       "  <thead>\n",
       "    <tr style=\"text-align: right;\">\n",
       "      <th></th>\n",
       "      <th>price</th>\n",
       "      <th>items</th>\n",
       "      <th>customers</th>\n",
       "      <th>store</th>\n",
       "    </tr>\n",
       "  </thead>\n",
       "  <tbody>\n",
       "    <tr>\n",
       "      <th>0</th>\n",
       "      <td>50</td>\n",
       "      <td>soap</td>\n",
       "      <td>5</td>\n",
       "      <td>store1</td>\n",
       "    </tr>\n",
       "    <tr>\n",
       "      <th>1</th>\n",
       "      <td>60</td>\n",
       "      <td>battery</td>\n",
       "      <td>10</td>\n",
       "      <td>store2</td>\n",
       "    </tr>\n",
       "    <tr>\n",
       "      <th>2</th>\n",
       "      <td>80</td>\n",
       "      <td>food</td>\n",
       "      <td>2</td>\n",
       "      <td>store3</td>\n",
       "    </tr>\n",
       "    <tr>\n",
       "      <th>3</th>\n",
       "      <td>100</td>\n",
       "      <td>maggy</td>\n",
       "      <td>6</td>\n",
       "      <td>store1</td>\n",
       "    </tr>\n",
       "    <tr>\n",
       "      <th>4</th>\n",
       "      <td>20</td>\n",
       "      <td>cream</td>\n",
       "      <td>8</td>\n",
       "      <td>store3</td>\n",
       "    </tr>\n",
       "    <tr>\n",
       "      <th>5</th>\n",
       "      <td>200</td>\n",
       "      <td>oil</td>\n",
       "      <td>12</td>\n",
       "      <td>store2</td>\n",
       "    </tr>\n",
       "    <tr>\n",
       "      <th>6</th>\n",
       "      <td>25</td>\n",
       "      <td>medicine</td>\n",
       "      <td>15</td>\n",
       "      <td>store1</td>\n",
       "    </tr>\n",
       "    <tr>\n",
       "      <th>7</th>\n",
       "      <td>120</td>\n",
       "      <td>chips</td>\n",
       "      <td>20</td>\n",
       "      <td>store2</td>\n",
       "    </tr>\n",
       "  </tbody>\n",
       "</table>\n",
       "</div>"
      ],
      "text/plain": [
       "   price     items  customers   store\n",
       "0     50      soap          5  store1\n",
       "1     60   battery         10  store2\n",
       "2     80      food          2  store3\n",
       "3    100     maggy          6  store1\n",
       "4     20     cream          8  store3\n",
       "5    200       oil         12  store2\n",
       "6     25  medicine         15  store1\n",
       "7    120     chips         20  store2"
      ]
     },
     "execution_count": 3,
     "metadata": {},
     "output_type": "execute_result"
    }
   ],
   "source": [
    "data"
   ]
  },
  {
   "cell_type": "code",
   "execution_count": 4,
   "id": "0fbdc42d-4012-4fc9-992c-632fbc0d3295",
   "metadata": {},
   "outputs": [
    {
     "name": "stdout",
     "output_type": "stream",
     "text": [
      "0    False\n",
      "1    False\n",
      "2    False\n",
      "3    False\n",
      "4    False\n",
      "5     True\n",
      "6     True\n",
      "7     True\n",
      "Name: customers, dtype: bool\n"
     ]
    }
   ],
   "source": [
    "data1 = data['customers'] > 10\n",
    "print(data1)"
   ]
  },
  {
   "cell_type": "code",
   "execution_count": 5,
   "id": "c0abf09f-2ba8-40b4-a00b-f94d8dbfd041",
   "metadata": {},
   "outputs": [
    {
     "data": {
      "text/plain": [
       "array([5, 6, 7], dtype=int64)"
      ]
     },
     "execution_count": 5,
     "metadata": {},
     "output_type": "execute_result"
    }
   ],
   "source": [
    "x = data[data1].index.values\n",
    "x"
   ]
  },
  {
   "cell_type": "code",
   "execution_count": 6,
   "id": "ba97eb90-c3bb-4465-b228-22befc2354d7",
   "metadata": {},
   "outputs": [
    {
     "data": {
      "text/plain": [
       "5         oil\n",
       "6    medicine\n",
       "7       chips\n",
       "Name: items, dtype: object"
      ]
     },
     "execution_count": 6,
     "metadata": {},
     "output_type": "execute_result"
    }
   ],
   "source": [
    "items = data['items'][x]\n",
    "items"
   ]
  },
  {
   "cell_type": "code",
   "execution_count": 7,
   "id": "7b26320a-a0e6-4b2e-8c29-56842dc60c24",
   "metadata": {},
   "outputs": [
    {
     "data": {
      "text/plain": [
       "array(['store1', 'store2', 'store3'], dtype=object)"
      ]
     },
     "execution_count": 7,
     "metadata": {},
     "output_type": "execute_result"
    }
   ],
   "source": [
    "x = data['store'].unique()\n",
    "x"
   ]
  },
  {
   "cell_type": "code",
   "execution_count": 8,
   "id": "c8f378fc-47f0-4ce0-ac35-c21e68e115d2",
   "metadata": {},
   "outputs": [
    {
     "data": {
      "text/plain": [
       "200"
      ]
     },
     "execution_count": 8,
     "metadata": {},
     "output_type": "execute_result"
    }
   ],
   "source": [
    "value = data.loc[5,'price']\n",
    "value"
   ]
  },
  {
   "cell_type": "code",
   "execution_count": 9,
   "id": "93c44393-8124-43ed-8ccb-1496235b130c",
   "metadata": {},
   "outputs": [
    {
     "data": {
      "text/plain": [
       "'oil'"
      ]
     },
     "execution_count": 9,
     "metadata": {},
     "output_type": "execute_result"
    }
   ],
   "source": [
    "value = data.iloc[5,1]\n",
    "value"
   ]
  },
  {
   "cell_type": "code",
   "execution_count": null,
   "id": "33cc3683-a5e6-4119-b51f-cbb414e67e6f",
   "metadata": {},
   "outputs": [],
   "source": [
    "##################Q1"
   ]
  },
  {
   "cell_type": "code",
   "execution_count": 24,
   "id": "28c55e1b-cf69-4a40-b31f-99e0462baa79",
   "metadata": {},
   "outputs": [],
   "source": [
    "data = pd.read_csv('iris.data')"
   ]
  },
  {
   "cell_type": "code",
   "execution_count": 25,
   "id": "86ae26a7-8863-4299-931f-6f7188d2fd2c",
   "metadata": {},
   "outputs": [
    {
     "data": {
      "text/html": [
       "<div>\n",
       "<style scoped>\n",
       "    .dataframe tbody tr th:only-of-type {\n",
       "        vertical-align: middle;\n",
       "    }\n",
       "\n",
       "    .dataframe tbody tr th {\n",
       "        vertical-align: top;\n",
       "    }\n",
       "\n",
       "    .dataframe thead th {\n",
       "        text-align: right;\n",
       "    }\n",
       "</style>\n",
       "<table border=\"1\" class=\"dataframe\">\n",
       "  <thead>\n",
       "    <tr style=\"text-align: right;\">\n",
       "      <th></th>\n",
       "      <th>5.1</th>\n",
       "      <th>3.5</th>\n",
       "      <th>1.4</th>\n",
       "      <th>0.2</th>\n",
       "      <th>Iris-setosa</th>\n",
       "    </tr>\n",
       "  </thead>\n",
       "  <tbody>\n",
       "    <tr>\n",
       "      <th>0</th>\n",
       "      <td>4.9</td>\n",
       "      <td>3.0</td>\n",
       "      <td>1.4</td>\n",
       "      <td>0.2</td>\n",
       "      <td>Iris-setosa</td>\n",
       "    </tr>\n",
       "    <tr>\n",
       "      <th>1</th>\n",
       "      <td>4.7</td>\n",
       "      <td>3.2</td>\n",
       "      <td>1.3</td>\n",
       "      <td>0.2</td>\n",
       "      <td>Iris-setosa</td>\n",
       "    </tr>\n",
       "    <tr>\n",
       "      <th>2</th>\n",
       "      <td>4.6</td>\n",
       "      <td>3.1</td>\n",
       "      <td>1.5</td>\n",
       "      <td>0.2</td>\n",
       "      <td>Iris-setosa</td>\n",
       "    </tr>\n",
       "    <tr>\n",
       "      <th>3</th>\n",
       "      <td>5.0</td>\n",
       "      <td>3.6</td>\n",
       "      <td>1.4</td>\n",
       "      <td>0.2</td>\n",
       "      <td>Iris-setosa</td>\n",
       "    </tr>\n",
       "    <tr>\n",
       "      <th>4</th>\n",
       "      <td>5.4</td>\n",
       "      <td>3.9</td>\n",
       "      <td>1.7</td>\n",
       "      <td>0.4</td>\n",
       "      <td>Iris-setosa</td>\n",
       "    </tr>\n",
       "    <tr>\n",
       "      <th>...</th>\n",
       "      <td>...</td>\n",
       "      <td>...</td>\n",
       "      <td>...</td>\n",
       "      <td>...</td>\n",
       "      <td>...</td>\n",
       "    </tr>\n",
       "    <tr>\n",
       "      <th>144</th>\n",
       "      <td>6.7</td>\n",
       "      <td>3.0</td>\n",
       "      <td>5.2</td>\n",
       "      <td>2.3</td>\n",
       "      <td>Iris-virginica</td>\n",
       "    </tr>\n",
       "    <tr>\n",
       "      <th>145</th>\n",
       "      <td>6.3</td>\n",
       "      <td>2.5</td>\n",
       "      <td>5.0</td>\n",
       "      <td>1.9</td>\n",
       "      <td>Iris-virginica</td>\n",
       "    </tr>\n",
       "    <tr>\n",
       "      <th>146</th>\n",
       "      <td>6.5</td>\n",
       "      <td>3.0</td>\n",
       "      <td>5.2</td>\n",
       "      <td>2.0</td>\n",
       "      <td>Iris-virginica</td>\n",
       "    </tr>\n",
       "    <tr>\n",
       "      <th>147</th>\n",
       "      <td>6.2</td>\n",
       "      <td>3.4</td>\n",
       "      <td>5.4</td>\n",
       "      <td>2.3</td>\n",
       "      <td>Iris-virginica</td>\n",
       "    </tr>\n",
       "    <tr>\n",
       "      <th>148</th>\n",
       "      <td>5.9</td>\n",
       "      <td>3.0</td>\n",
       "      <td>5.1</td>\n",
       "      <td>1.8</td>\n",
       "      <td>Iris-virginica</td>\n",
       "    </tr>\n",
       "  </tbody>\n",
       "</table>\n",
       "<p>149 rows × 5 columns</p>\n",
       "</div>"
      ],
      "text/plain": [
       "     5.1  3.5  1.4  0.2     Iris-setosa\n",
       "0    4.9  3.0  1.4  0.2     Iris-setosa\n",
       "1    4.7  3.2  1.3  0.2     Iris-setosa\n",
       "2    4.6  3.1  1.5  0.2     Iris-setosa\n",
       "3    5.0  3.6  1.4  0.2     Iris-setosa\n",
       "4    5.4  3.9  1.7  0.4     Iris-setosa\n",
       "..   ...  ...  ...  ...             ...\n",
       "144  6.7  3.0  5.2  2.3  Iris-virginica\n",
       "145  6.3  2.5  5.0  1.9  Iris-virginica\n",
       "146  6.5  3.0  5.2  2.0  Iris-virginica\n",
       "147  6.2  3.4  5.4  2.3  Iris-virginica\n",
       "148  5.9  3.0  5.1  1.8  Iris-virginica\n",
       "\n",
       "[149 rows x 5 columns]"
      ]
     },
     "execution_count": 25,
     "metadata": {},
     "output_type": "execute_result"
    }
   ],
   "source": [
    "data"
   ]
  },
  {
   "cell_type": "code",
   "execution_count": 32,
   "id": "3f955617-c66e-4be8-a201-f4fc97cfbc95",
   "metadata": {},
   "outputs": [
    {
     "data": {
      "text/plain": [
       "('Iris-virginica', 'Iris-virginica')"
      ]
     },
     "execution_count": 32,
     "metadata": {},
     "output_type": "execute_result"
    }
   ],
   "source": [
    "data.iloc[100,4], data.iloc[101,4]"
   ]
  },
  {
   "cell_type": "code",
   "execution_count": null,
   "id": "206b218b-0302-4e87-903e-41aaa006007d",
   "metadata": {},
   "outputs": [],
   "source": [
    "################Q2"
   ]
  },
  {
   "cell_type": "code",
   "execution_count": 34,
   "id": "4e215f74-3f87-4568-8cdf-eb368d1803cd",
   "metadata": {},
   "outputs": [
    {
     "name": "stdout",
     "output_type": "stream",
     "text": [
      "        item  price  transcost\n",
      "0        gas    900        150\n",
      "1    ricebag   1200        200\n",
      "2  milletbag    600         50\n",
      "3   wheatbag   1500        250\n"
     ]
    }
   ],
   "source": [
    "data = {\n",
    "    'item': ['gas', 'ricebag', 'milletbag', 'wheatbag'],\n",
    "    'price': [900, 1200, 600, 1500],\n",
    "    'transcost': [150, 200, 50, 250]\n",
    "}\n",
    "\n",
    "df = pd.DataFrame(data)\n",
    "print(df)"
   ]
  },
  {
   "cell_type": "code",
   "execution_count": 44,
   "id": "66e70b68-ee06-410d-b5fb-560f08986a72",
   "metadata": {},
   "outputs": [
    {
     "name": "stdin",
     "output_type": "stream",
     "text": [
      "Please name the product whose total cost you desire:  gas\n"
     ]
    },
    {
     "name": "stdout",
     "output_type": "stream",
     "text": [
      "The total cost of gas is 1050\n"
     ]
    }
   ],
   "source": [
    "inp = input(\"Please name the product whose total cost you desire: \")\n",
    "index = data['item'].index(inp)\n",
    "print(f\"The total cost of {inp} is {data['price'][index] + data['transcost'][index]}\")"
   ]
  },
  {
   "cell_type": "code",
   "execution_count": null,
   "id": "41e69d62-84e3-4356-bf23-54a01c133e14",
   "metadata": {},
   "outputs": [],
   "source": [
    "############Q3"
   ]
  },
  {
   "cell_type": "code",
   "execution_count": 45,
   "id": "57c894c3-971f-4e3b-aa14-c57308b14455",
   "metadata": {},
   "outputs": [
    {
     "name": "stdout",
     "output_type": "stream",
     "text": [
      "Deflections at each node (X):\n",
      " [ 0.02115738 -0.42337938  0.88901555  0.18065887 -0.1599459 ]\n"
     ]
    }
   ],
   "source": [
    "import numpy as np\n",
    "K = np.array([\n",
    "    [4, 5, 6, 0.1, 2],\n",
    "    [10, 0.5, 2, 3, 2],\n",
    "    [8, 12, 9, 15, 5],\n",
    "    [16, 5, 8, 9, 6],\n",
    "    [15, 13, 11, 10, 15]\n",
    "])\n",
    "\n",
    "F = np.array([3, 2, 5, 6, 4])\n",
    "\n",
    "K_inv = np.linalg.inv(K)\n",
    "\n",
    "X = np.dot(K_inv, F)\n",
    "\n",
    "print(\"Deflections at each node (X):\\n\", X)"
   ]
  }
 ],
 "metadata": {
  "kernelspec": {
   "display_name": "Python 3 (ipykernel)",
   "language": "python",
   "name": "python3"
  },
  "language_info": {
   "codemirror_mode": {
    "name": "ipython",
    "version": 3
   },
   "file_extension": ".py",
   "mimetype": "text/x-python",
   "name": "python",
   "nbconvert_exporter": "python",
   "pygments_lexer": "ipython3",
   "version": "3.11.7"
  }
 },
 "nbformat": 4,
 "nbformat_minor": 5
}
